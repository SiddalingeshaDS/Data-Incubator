{
 "cells": [
  {
   "cell_type": "code",
   "execution_count": 2,
   "metadata": {
    "collapsed": true
   },
   "outputs": [],
   "source": [
    "import requests\n",
    "from bs4 import BeautifulSoup\n",
    "import time\n",
    "import re\n",
    "import time\n",
    "import os\n"
   ]
  },
  {
   "cell_type": "code",
   "execution_count": 65,
   "metadata": {
    "collapsed": false
   },
   "outputs": [
    {
     "name": "stdout",
     "output_type": "stream",
     "text": [
      "Fetching xlsx links from http://censusindia.gov.in/pca/cdb_pca_census/Houselisting-housing-Jamu_&kasmir.html\n"
     ]
    },
    {
     "name": "stderr",
     "output_type": "stream",
     "text": [
      "C:\\Users\\Sid\\AppData\\Local\\Continuum\\Anaconda3\\lib\\site-packages\\bs4\\__init__.py:181: UserWarning: No parser was explicitly specified, so I'm using the best available HTML parser for this system (\"lxml\"). This usually isn't a problem, but if you run this code on another system, or in a different virtual environment, it may use a different parser and behave differently.\n",
      "\n",
      "The code that caused this warning is on line 184 of the file C:\\Users\\Sid\\AppData\\Local\\Continuum\\Anaconda3\\lib\\runpy.py. To get rid of this warning, change code that looks like this:\n",
      "\n",
      " BeautifulSoup([your markup])\n",
      "\n",
      "to this:\n",
      "\n",
      " BeautifulSoup([your markup], \"lxml\")\n",
      "\n",
      "  markup_type=markup_type))\n"
     ]
    },
    {
     "name": "stdout",
     "output_type": "stream",
     "text": [
      "Fetching xlsx from http://censusindia.gov.in/pca/cdb_pca_census/PCA CDB-0114-F-Census.xlsx\n",
      "Fetching xlsx from http://censusindia.gov.in/pca/cdb_pca_census/PCA CDB-0102-F-Census.xlsx\n",
      "Fetching xlsx from http://censusindia.gov.in/pca/cdb_pca_census/PCA CDB-0109-F-Census.xlsx\n",
      "Fetching xlsx from http://censusindia.gov.in/pca/cdb_pca_census/PCA CDB-0108-F-Census.xlsx\n",
      "Fetching xlsx from http://censusindia.gov.in/pca/cdb_pca_census/PCA CDB-0116-F-Census.xlsx\n",
      "Fetching xlsx from http://censusindia.gov.in/pca/cdb_pca_census/PCA CDB-0111-F-Census.xlsx\n",
      "Fetching xlsx from http://censusindia.gov.in/pca/cdb_pca_census/PCA CDB-0121-F-Census.xlsx\n",
      "Fetching xlsx from http://censusindia.gov.in/pca/cdb_pca_census/PCA CDB-0104-F-Census.xlsx\n",
      "Fetching xlsx from http://censusindia.gov.in/pca/cdb_pca_census/PCA CDB-0107-F-Census.xlsx\n",
      "Fetching xlsx from http://censusindia.gov.in/pca/cdb_pca_census/PCA CDB-0118-F-Census.xlsx\n",
      "Fetching xlsx from http://censusindia.gov.in/pca/cdb_pca_census/PCA CDB-0115-F-Census.xlsx\n",
      "Fetching xlsx from http://censusindia.gov.in/pca/cdb_pca_census/PCA CDB-0101-F-Census.xlsx\n",
      "Fetching xlsx from http://censusindia.gov.in/pca/cdb_pca_census/PCA CDB-0103-F-Census.xlsx\n",
      "Fetching xlsx from http://censusindia.gov.in/pca/cdb_pca_census/PCA CDB-0112-F-Census.xlsx\n",
      "Fetching xlsx from http://censusindia.gov.in/pca/cdb_pca_census/PCA CDB-0105-F-Census.xlsx\n",
      "Fetching xlsx from http://censusindia.gov.in/pca/cdb_pca_census/PCA CDB-0106-F-Census.xlsx\n",
      "Fetching xlsx from http://censusindia.gov.in/pca/cdb_pca_census/PCA CDB-0117-F-Census.xlsx\n",
      "Fetching xlsx from http://censusindia.gov.in/pca/cdb_pca_census/PCA CDB-0120-F-Census.xlsx\n",
      "Fetching xlsx from http://censusindia.gov.in/pca/cdb_pca_census/PCA CDB-0122-F-Census.xlsx\n",
      "Fetching xlsx from http://censusindia.gov.in/pca/cdb_pca_census/PCA CDB-0113-F-Census.xlsx\n",
      "Fetching xlsx from http://censusindia.gov.in/pca/cdb_pca_census/PCA CDB-0110-F-Census.xlsx\n",
      "Fetching xlsx from http://censusindia.gov.in/pca/cdb_pca_census/PCA CDB-0119-F-Census.xlsx\n",
      "Completed Fetching data\n"
     ]
    }
   ],
   "source": [
    "# url_to_scrape = 'http://censusindia.gov.in/pca/cdb_pca_census/cd_block.html'\n",
    "# r = requests.get(url_to_scrape)\n",
    "# soup = BeautifulSoup(r.text)\n",
    "# print(soup)\n",
    "state_links = []\n",
    "# for tag in soup.find_all(\"font\", string=\"C.D. Block Wise Primary Census Abstract Data(PCA) \"):\n",
    "#     table = tag.parent.parent.parent\n",
    "#     break\n",
    "\n",
    "# for anchor in table.find_all(href=True):\n",
    "#     state_links.append({\"href\": anchor['href'], \"state\": anchor.contents[0].strip()})\n",
    "\n",
    "state_links = [\n",
    "# {\"href\": \"Houselisting-housing-Maha.html\", \"state\" : \"Maharashtra\"}, \n",
    "#                {\"href\": \"Houselisting-housing-Aurnachal_Pradesh.html\",\n",
    "#                \"state\": \"Arunachal Pradesh\"},\n",
    "              {\"href\": \"Houselisting-housing-Jamu_&kasmir.html\", \"state\": \"Jammu and Kashmir\"}\n",
    "              ]\n",
    "\n",
    "base_link = \"http://censusindia.gov.in/pca/cdb_pca_census/\"\n",
    "xlsx_links = []\n",
    "for link in state_links:\n",
    "    if link[\"href\"].endswith('.html'):\n",
    "        print('Fetching xlsx links from', base_link + link[\"href\"])\n",
    "        r1 = requests.get(base_link + link[\"href\"])\n",
    "        link_page = BeautifulSoup(r1.text)\n",
    "        table = \"\"\n",
    "        for tag in link_page.find_all(\"font\", string=\"C.D. Block Wise Primary Census Abstract Data(PCA)\"):\n",
    "            table = tag.parent.parent.parent\n",
    "            break\n",
    "        for xlsx in table.find_all(href=True):\n",
    "            print('Fetching xlsx from', base_link + xlsx[\"href\"])\n",
    "            \n",
    "            filename = 'data/census/'+ link[\"state\"] + '/' + xlsx.contents[0].strip() +'.xlsx'\n",
    "            if xlsx['href'].endswith('.xlsx'):\n",
    "                if not os.path.exists(os.path.dirname(filename)):\n",
    "                    try:\n",
    "                        os.makedirs(os.path.dirname(filename))\n",
    "                    except OSError as exc: # Guard against race condition\n",
    "                        if exc.errno != errno.EEXIST:\n",
    "                            raise\n",
    "                r1 = requests.get(base_link + xlsx[\"href\"])\n",
    "                output = open(filename, 'wb')\n",
    "                output.write(r1.content)\n",
    "                output.close()\n",
    "        time.sleep(1)\n",
    "print(\"Completed Fetching data\")\n"
   ]
  },
  {
   "cell_type": "code",
   "execution_count": 34,
   "metadata": {
    "collapsed": false
   },
   "outputs": [
    {
     "name": "stdout",
     "output_type": "stream",
     "text": [
      "674\n"
     ]
    }
   ],
   "source": [
    "import xlrd\n",
    "import csv\n",
    "\n",
    "def open_file(path):\n",
    "    \"\"\"\n",
    "    Open and read an Excel file\n",
    "    \"\"\"\n",
    "    book = xlrd.open_workbook(path)\n",
    "    first_sheet = book.sheet_by_index(0)\n",
    "    first_row = first_sheet.row_values(0)\n",
    "    first_row_val = first_row[0].split(\";\")\n",
    "    state = \"\"\n",
    "    district = \"\"\n",
    "    if \"SIKKIM\" in first_row[0]:\n",
    "        state = \"SIKKIM\"\n",
    "        district = first_row[0].split(\"DISTRICT:\")[1].strip().title()\n",
    "    elif len(first_row_val) == 2:\n",
    "        if \"STATE:\" in first_row_val[0]:\n",
    "            state = first_row_val[0].split(\"STATE:\")[1].strip().title()\n",
    "        if \"DISTRICT:\" in first_row_val[1]:\n",
    "            district = first_row_val[1].split(\"DISTRICT:\")[1].strip().title()\n",
    "        if \"UNION TERRITORY:\" in first_row_val[0]:\n",
    "            state = first_row_val[0].split(\"UNION TERRITORY:\")[1].strip().title()\n",
    "            if district == \"\":\n",
    "                district = state\n",
    "    if state == \"\" or district == \"\":\n",
    "        print(first_row_val)\n",
    "        \n",
    "    sex_ratio_total = str(first_sheet.cell(4,4).value).strip().replace(\"\\\"\", '').replace(\"\\n\", \"\").replace(\",\", \"\")\n",
    "    sex_ratio_rural = str(first_sheet.cell(4,7).value).strip().replace(\"\\\"\", '').replace(\"\\n\", \"\").replace(\",\", \"\")\n",
    "    sex_ratio_urban = str(first_sheet.cell(4,10).value).strip().replace(\"\\\"\", '').replace(\"\\n\", \"\").replace(\",\", \"\")\n",
    "        \n",
    "    total_households = str(first_sheet.cell(55,4).value).strip().replace(\"\\\"\", '').replace(\"\\n\", \"\").replace(\",\", \"\")\n",
    "    rural_households = str(first_sheet.cell(55,7).value).strip().replace(\"\\\"\", '').replace(\"\\n\", \"\").replace(\",\", \"\")\n",
    "    urban_households = str(first_sheet.cell(55,10).value).strip().replace(\"\\\"\", '').replace(\"\\n\", \"\").replace(\",\", \"\")\n",
    "    \n",
    "    total_electricity_pct = str(first_sheet.cell(49,4).value).strip().replace(\"\\\"\", '').replace(\"\\n\", \"\").replace(\",\", \"\")\n",
    "    rural_electricity_pct = str(first_sheet.cell(49,7).value).strip().replace(\"\\\"\", '').replace(\"\\n\", \"\").replace(\",\", \"\")\n",
    "    urban_electricity_pct = str(first_sheet.cell(49,10).value).strip().replace(\"\\\"\", '').replace(\"\\n\", \"\").replace(\",\", \"\")\n",
    "\n",
    "    total_landline_pct = str(first_sheet.cell(62,4).value).strip().replace(\"\\\"\", '').replace(\"\\n\", \"\").replace(\",\", \"\")\n",
    "    rural_landline_pct = str(first_sheet.cell(62,7).value).strip().replace(\"\\\"\", '').replace(\"\\n\", \"\").replace(\",\", \"\")\n",
    "    urban_landline_pct = str(first_sheet.cell(62,10).value).strip().replace(\"\\\"\", '').replace(\"\\n\", \"\").replace(\",\", \"\")\n",
    "\n",
    "    total_mobile_pct = str(first_sheet.cell(63,4).value).strip().replace(\"\\\"\", '').replace(\"\\n\", \"\").replace(\",\", \"\")\n",
    "    rural_mobile_pct = str(first_sheet.cell(63,7).value).strip().replace(\"\\\"\", '').replace(\"\\n\", \"\").replace(\",\", \"\")\n",
    "    urban_mobile_pct = str(first_sheet.cell(63,10).value).strip().replace(\"\\\"\", '').replace(\"\\n\", \"\").replace(\",\", \"\")\n",
    "\n",
    "    total_internet_pct = str(first_sheet.cell(64,4).value).strip().replace(\"\\\"\", '').replace(\"\\n\", \"\").replace(\",\", \"\")\n",
    "    rural_internet_pct = str(first_sheet.cell(64,7).value).strip().replace(\"\\\"\", '').replace(\"\\n\", \"\").replace(\",\", \"\")\n",
    "    urban_internet_pct = str(first_sheet.cell(64,10).value).strip().replace(\"\\\"\", '').replace(\"\\n\", \"\").replace(\",\", \"\")\n",
    "    \n",
    "    \n",
    "    return [state, district, \n",
    "            sex_ratio_total, sex_ratio_rural, sex_ratio_urban, \n",
    "            total_households, rural_households, urban_households, \n",
    "            total_electricity_pct, rural_electricity_pct, urban_electricity_pct,\n",
    "            total_landline_pct, rural_landline_pct, urban_landline_pct,\n",
    "            total_mobile_pct, rural_mobile_pct, urban_mobile_pct,\n",
    "            total_internet_pct, rural_internet_pct, urban_internet_pct]\n",
    " \n",
    "if __name__ == \"__main__\":\n",
    "    internet_penentration_per_district = [['State', 'District',\n",
    "                                           'Total Sex Ratio', 'Rural Sex Ration', 'Urban Ratio',\n",
    "                                           'Total Households', 'Rural Households', 'Urban Households', \n",
    "                                           'Total Households With Electricity Pct', 'Rural Households With Electricity Pct', 'Urban Households With Electricity Pct',\n",
    "                                           'Total Households With Landline Conn Pct', 'Rural Households With Landline Conn Pct', 'Urban Households With Landline Conn Pct',\n",
    "                                           'Total Households With Mobile Conn Pct', 'Rural Households With Mobile Conn Pct', 'Urban Households With Mobile Conn Pct',\n",
    "                                           'Total Households With Internet Pct', 'Rural Households With Internet Pct', 'Urban Households With Internet Pct'\n",
    "                                          ]]\n",
    "    for root, dirs, files in os.walk(\"data/niti\", topdown=False):\n",
    "        for name in files:\n",
    "            if name.endswith(\".xls\") or name.endswith(\".xlsx\"):\n",
    "    #             print(os.path.join(root, name))\n",
    "                arr = open_file(os.path.join(root, name))\n",
    "                internet_penentration_per_district.append(arr)\n",
    "    print(len(internet_penentration_per_district))"
   ]
  },
  {
   "cell_type": "code",
   "execution_count": 35,
   "metadata": {
    "collapsed": false
   },
   "outputs": [],
   "source": [
    "myFile = open('data/niti/internet_penentration_per_district.csv', 'w', newline='')\n",
    "with myFile:\n",
    "    writer = csv.writer(myFile, dialect='excel')\n",
    "    writer.writerows(internet_penentration_per_district)\n"
   ]
  },
  {
   "cell_type": "code",
   "execution_count": 36,
   "metadata": {
    "collapsed": false
   },
   "outputs": [],
   "source": [
    "import pandas as pd\n",
    "import numpy as np\n",
    "%matplotlib inline\n",
    "import matplotlib\n",
    "import matplotlib.pyplot as plt\n",
    "plt.rcParams['axes.labelsize'] = 14\n",
    "plt.rcParams['xtick.labelsize'] = 12\n",
    "plt.rcParams['ytick.labelsize'] = 12\n",
    "\n",
    "niti_df = pd.read_csv('data/niti/internet_penentration_per_district.csv', index_col=['State'])"
   ]
  },
  {
   "cell_type": "code",
   "execution_count": 38,
   "metadata": {
    "collapsed": false
   },
   "outputs": [
    {
     "data": {
      "text/html": [
       "<div>\n",
       "<style scoped>\n",
       "    .dataframe tbody tr th:only-of-type {\n",
       "        vertical-align: middle;\n",
       "    }\n",
       "\n",
       "    .dataframe tbody tr th {\n",
       "        vertical-align: top;\n",
       "    }\n",
       "\n",
       "    .dataframe thead th {\n",
       "        text-align: right;\n",
       "    }\n",
       "</style>\n",
       "<table border=\"1\" class=\"dataframe\">\n",
       "  <thead>\n",
       "    <tr style=\"text-align: right;\">\n",
       "      <th></th>\n",
       "      <th>District</th>\n",
       "      <th>Total Sex Ratio</th>\n",
       "      <th>Rural Sex Ration</th>\n",
       "      <th>Urban Ratio</th>\n",
       "      <th>Total Households</th>\n",
       "      <th>Rural Households</th>\n",
       "      <th>Urban Households</th>\n",
       "      <th>Total Households With Electricity Pct</th>\n",
       "      <th>Rural Households With Electricity Pct</th>\n",
       "      <th>Urban Households With Electricity Pct</th>\n",
       "      <th>Total Households With Landline Conn Pct</th>\n",
       "      <th>Rural Households With Landline Conn Pct</th>\n",
       "      <th>Urban Households With Landline Conn Pct</th>\n",
       "      <th>Total Households With Mobile Conn Pct</th>\n",
       "      <th>Rural Households With Mobile Conn Pct</th>\n",
       "      <th>Urban Households With Mobile Conn Pct</th>\n",
       "      <th>Total Households With Internet Pct</th>\n",
       "      <th>Rural Households With Internet Pct</th>\n",
       "      <th>Urban Households With Internet Pct</th>\n",
       "    </tr>\n",
       "    <tr>\n",
       "      <th>State</th>\n",
       "      <th></th>\n",
       "      <th></th>\n",
       "      <th></th>\n",
       "      <th></th>\n",
       "      <th></th>\n",
       "      <th></th>\n",
       "      <th></th>\n",
       "      <th></th>\n",
       "      <th></th>\n",
       "      <th></th>\n",
       "      <th></th>\n",
       "      <th></th>\n",
       "      <th></th>\n",
       "      <th></th>\n",
       "      <th></th>\n",
       "      <th></th>\n",
       "      <th></th>\n",
       "      <th></th>\n",
       "      <th></th>\n",
       "    </tr>\n",
       "  </thead>\n",
       "  <tbody>\n",
       "    <tr>\n",
       "      <th>Andaman And Nicobar Islands</th>\n",
       "      <td>Nicobar</td>\n",
       "      <td>777.0</td>\n",
       "      <td>777.0</td>\n",
       "      <td>-</td>\n",
       "      <td>9959.0</td>\n",
       "      <td>9959.0</td>\n",
       "      <td>-</td>\n",
       "      <td>93.39291093483281</td>\n",
       "      <td>93.39291093483281</td>\n",
       "      <td>15</td>\n",
       "      <td>2.81</td>\n",
       "      <td>2.81</td>\n",
       "      <td>0.0</td>\n",
       "      <td>62.64</td>\n",
       "      <td>62.64</td>\n",
       "      <td>0.0</td>\n",
       "      <td>0.57</td>\n",
       "      <td>0.57</td>\n",
       "      <td>0.0</td>\n",
       "    </tr>\n",
       "    <tr>\n",
       "      <th>Andaman And Nicobar Islands</th>\n",
       "      <td>North And Middle Andaman</td>\n",
       "      <td>925.0</td>\n",
       "      <td>924.0</td>\n",
       "      <td>952.0</td>\n",
       "      <td>26327.0</td>\n",
       "      <td>25586.0</td>\n",
       "      <td>741.0</td>\n",
       "      <td>70.80563679872375</td>\n",
       "      <td>70.41741577425155</td>\n",
       "      <td>84.21052631578947</td>\n",
       "      <td>3.36</td>\n",
       "      <td>3.39</td>\n",
       "      <td>2.43</td>\n",
       "      <td>61.32</td>\n",
       "      <td>61.17</td>\n",
       "      <td>66.67</td>\n",
       "      <td>1.47</td>\n",
       "      <td>1.46</td>\n",
       "      <td>1.89</td>\n",
       "    </tr>\n",
       "    <tr>\n",
       "      <th>Andaman And Nicobar Islands</th>\n",
       "      <td>South Andaman (Andaman)</td>\n",
       "      <td>871.0</td>\n",
       "      <td>869.0</td>\n",
       "      <td>872.0</td>\n",
       "      <td>57090.0</td>\n",
       "      <td>23485.0</td>\n",
       "      <td>33605.0</td>\n",
       "      <td>91.92327903310562</td>\n",
       "      <td>83.17649563551203</td>\n",
       "      <td>98.03600654664486</td>\n",
       "      <td>2.94</td>\n",
       "      <td>3.19</td>\n",
       "      <td>2.76</td>\n",
       "      <td>78.65</td>\n",
       "      <td>74.52</td>\n",
       "      <td>81.54</td>\n",
       "      <td>4.89</td>\n",
       "      <td>1.67</td>\n",
       "      <td>7.13</td>\n",
       "    </tr>\n",
       "    <tr>\n",
       "      <th>Andhra Pradesh</th>\n",
       "      <td>Anantapur</td>\n",
       "      <td>977.0</td>\n",
       "      <td>971.0</td>\n",
       "      <td>991.0</td>\n",
       "      <td>961165.0</td>\n",
       "      <td>698439.0</td>\n",
       "      <td>262726.0</td>\n",
       "      <td>93.42516633460436</td>\n",
       "      <td>91.92842896802728</td>\n",
       "      <td>97.40413967403302</td>\n",
       "      <td>1.19</td>\n",
       "      <td>0.97</td>\n",
       "      <td>1.59</td>\n",
       "      <td>54.92</td>\n",
       "      <td>49.76</td>\n",
       "      <td>64.58</td>\n",
       "      <td>0.57</td>\n",
       "      <td>0.29</td>\n",
       "      <td>1.1</td>\n",
       "    </tr>\n",
       "    <tr>\n",
       "      <th>Andhra Pradesh</th>\n",
       "      <td>Srikakulam</td>\n",
       "      <td>1015.0</td>\n",
       "      <td>1011.0</td>\n",
       "      <td>1033.0</td>\n",
       "      <td>689323.0</td>\n",
       "      <td>580048.0</td>\n",
       "      <td>109275.0</td>\n",
       "      <td>89.28064202122953</td>\n",
       "      <td>87.97065070476926</td>\n",
       "      <td>96.2342713337909</td>\n",
       "      <td>2.73</td>\n",
       "      <td>2.62</td>\n",
       "      <td>3.32</td>\n",
       "      <td>42.77</td>\n",
       "      <td>39.9</td>\n",
       "      <td>58.03</td>\n",
       "      <td>0.58</td>\n",
       "      <td>0.31</td>\n",
       "      <td>2.02</td>\n",
       "    </tr>\n",
       "  </tbody>\n",
       "</table>\n",
       "</div>"
      ],
      "text/plain": [
       "                                             District Total Sex Ratio  \\\n",
       "State                                                                   \n",
       "Andaman And Nicobar Islands                   Nicobar           777.0   \n",
       "Andaman And Nicobar Islands  North And Middle Andaman           925.0   \n",
       "Andaman And Nicobar Islands   South Andaman (Andaman)           871.0   \n",
       "Andhra Pradesh                              Anantapur           977.0   \n",
       "Andhra Pradesh                             Srikakulam          1015.0   \n",
       "\n",
       "                            Rural Sex Ration Urban Ratio Total Households  \\\n",
       "State                                                                       \n",
       "Andaman And Nicobar Islands            777.0           -           9959.0   \n",
       "Andaman And Nicobar Islands            924.0       952.0          26327.0   \n",
       "Andaman And Nicobar Islands            869.0       872.0          57090.0   \n",
       "Andhra Pradesh                         971.0       991.0         961165.0   \n",
       "Andhra Pradesh                        1011.0      1033.0         689323.0   \n",
       "\n",
       "                            Rural Households Urban Households  \\\n",
       "State                                                           \n",
       "Andaman And Nicobar Islands           9959.0                -   \n",
       "Andaman And Nicobar Islands          25586.0            741.0   \n",
       "Andaman And Nicobar Islands          23485.0          33605.0   \n",
       "Andhra Pradesh                      698439.0         262726.0   \n",
       "Andhra Pradesh                      580048.0         109275.0   \n",
       "\n",
       "                            Total Households With Electricity Pct  \\\n",
       "State                                                               \n",
       "Andaman And Nicobar Islands                     93.39291093483281   \n",
       "Andaman And Nicobar Islands                     70.80563679872375   \n",
       "Andaman And Nicobar Islands                     91.92327903310562   \n",
       "Andhra Pradesh                                  93.42516633460436   \n",
       "Andhra Pradesh                                  89.28064202122953   \n",
       "\n",
       "                            Rural Households With Electricity Pct  \\\n",
       "State                                                               \n",
       "Andaman And Nicobar Islands                     93.39291093483281   \n",
       "Andaman And Nicobar Islands                     70.41741577425155   \n",
       "Andaman And Nicobar Islands                     83.17649563551203   \n",
       "Andhra Pradesh                                  91.92842896802728   \n",
       "Andhra Pradesh                                  87.97065070476926   \n",
       "\n",
       "                            Urban Households With Electricity Pct  \\\n",
       "State                                                               \n",
       "Andaman And Nicobar Islands                                    15   \n",
       "Andaman And Nicobar Islands                     84.21052631578947   \n",
       "Andaman And Nicobar Islands                     98.03600654664486   \n",
       "Andhra Pradesh                                  97.40413967403302   \n",
       "Andhra Pradesh                                   96.2342713337909   \n",
       "\n",
       "                            Total Households With Landline Conn Pct  \\\n",
       "State                                                                 \n",
       "Andaman And Nicobar Islands                                    2.81   \n",
       "Andaman And Nicobar Islands                                    3.36   \n",
       "Andaman And Nicobar Islands                                    2.94   \n",
       "Andhra Pradesh                                                 1.19   \n",
       "Andhra Pradesh                                                 2.73   \n",
       "\n",
       "                            Rural Households With Landline Conn Pct  \\\n",
       "State                                                                 \n",
       "Andaman And Nicobar Islands                                    2.81   \n",
       "Andaman And Nicobar Islands                                    3.39   \n",
       "Andaman And Nicobar Islands                                    3.19   \n",
       "Andhra Pradesh                                                 0.97   \n",
       "Andhra Pradesh                                                 2.62   \n",
       "\n",
       "                            Urban Households With Landline Conn Pct  \\\n",
       "State                                                                 \n",
       "Andaman And Nicobar Islands                                     0.0   \n",
       "Andaman And Nicobar Islands                                    2.43   \n",
       "Andaman And Nicobar Islands                                    2.76   \n",
       "Andhra Pradesh                                                 1.59   \n",
       "Andhra Pradesh                                                 3.32   \n",
       "\n",
       "                            Total Households With Mobile Conn Pct  \\\n",
       "State                                                               \n",
       "Andaman And Nicobar Islands                                 62.64   \n",
       "Andaman And Nicobar Islands                                 61.32   \n",
       "Andaman And Nicobar Islands                                 78.65   \n",
       "Andhra Pradesh                                              54.92   \n",
       "Andhra Pradesh                                              42.77   \n",
       "\n",
       "                            Rural Households With Mobile Conn Pct  \\\n",
       "State                                                               \n",
       "Andaman And Nicobar Islands                                 62.64   \n",
       "Andaman And Nicobar Islands                                 61.17   \n",
       "Andaman And Nicobar Islands                                 74.52   \n",
       "Andhra Pradesh                                              49.76   \n",
       "Andhra Pradesh                                               39.9   \n",
       "\n",
       "                            Urban Households With Mobile Conn Pct  \\\n",
       "State                                                               \n",
       "Andaman And Nicobar Islands                                   0.0   \n",
       "Andaman And Nicobar Islands                                 66.67   \n",
       "Andaman And Nicobar Islands                                 81.54   \n",
       "Andhra Pradesh                                              64.58   \n",
       "Andhra Pradesh                                              58.03   \n",
       "\n",
       "                            Total Households With Internet Pct  \\\n",
       "State                                                            \n",
       "Andaman And Nicobar Islands                               0.57   \n",
       "Andaman And Nicobar Islands                               1.47   \n",
       "Andaman And Nicobar Islands                               4.89   \n",
       "Andhra Pradesh                                            0.57   \n",
       "Andhra Pradesh                                            0.58   \n",
       "\n",
       "                            Rural Households With Internet Pct  \\\n",
       "State                                                            \n",
       "Andaman And Nicobar Islands                               0.57   \n",
       "Andaman And Nicobar Islands                               1.46   \n",
       "Andaman And Nicobar Islands                               1.67   \n",
       "Andhra Pradesh                                            0.29   \n",
       "Andhra Pradesh                                            0.31   \n",
       "\n",
       "                            Urban Households With Internet Pct  \n",
       "State                                                           \n",
       "Andaman And Nicobar Islands                                0.0  \n",
       "Andaman And Nicobar Islands                               1.89  \n",
       "Andaman And Nicobar Islands                               7.13  \n",
       "Andhra Pradesh                                             1.1  \n",
       "Andhra Pradesh                                            2.02  "
      ]
     },
     "execution_count": 38,
     "metadata": {},
     "output_type": "execute_result"
    }
   ],
   "source": [
    "niti_df.head()"
   ]
  },
  {
   "cell_type": "code",
   "execution_count": 39,
   "metadata": {
    "collapsed": false
   },
   "outputs": [
    {
     "data": {
      "text/plain": [
       "District                                   object\n",
       "Total Sex Ratio                            object\n",
       "Rural Sex Ration                           object\n",
       "Urban Ratio                                object\n",
       "Total Households                           object\n",
       "Rural Households                           object\n",
       "Urban Households                           object\n",
       "Total Households With Electricity Pct      object\n",
       "Rural Households With Electricity Pct      object\n",
       "Urban Households With Electricity Pct      object\n",
       "Total Households With Landline Conn Pct    object\n",
       "Rural Households With Landline Conn Pct    object\n",
       "Urban Households With Landline Conn Pct    object\n",
       "Total Households With Mobile Conn Pct      object\n",
       "Rural Households With Mobile Conn Pct      object\n",
       "Urban Households With Mobile Conn Pct      object\n",
       "Total Households With Internet Pct         object\n",
       "Rural Households With Internet Pct         object\n",
       "Urban Households With Internet Pct         object\n",
       "dtype: object"
      ]
     },
     "execution_count": 39,
     "metadata": {},
     "output_type": "execute_result"
    }
   ],
   "source": [
    "niti_df.dtypes"
   ]
  },
  {
   "cell_type": "code",
   "execution_count": 40,
   "metadata": {
    "collapsed": false
   },
   "outputs": [
    {
     "data": {
      "text/plain": [
       "Index(['District', 'Total Sex Ratio', 'Rural Sex Ration', 'Urban Ratio',\n",
       "       'Total Households', 'Rural Households', 'Urban Households',\n",
       "       'Total Households With Electricity Pct',\n",
       "       'Rural Households With Electricity Pct',\n",
       "       'Urban Households With Electricity Pct',\n",
       "       'Total Households With Landline Conn Pct',\n",
       "       'Rural Households With Landline Conn Pct',\n",
       "       'Urban Households With Landline Conn Pct',\n",
       "       'Total Households With Mobile Conn Pct',\n",
       "       'Rural Households With Mobile Conn Pct',\n",
       "       'Urban Households With Mobile Conn Pct',\n",
       "       'Total Households With Internet Pct',\n",
       "       'Rural Households With Internet Pct',\n",
       "       'Urban Households With Internet Pct'],\n",
       "      dtype='object')"
      ]
     },
     "execution_count": 40,
     "metadata": {},
     "output_type": "execute_result"
    }
   ],
   "source": [
    "niti_df.columns"
   ]
  },
  {
   "cell_type": "code",
   "execution_count": 62,
   "metadata": {
    "collapsed": true
   },
   "outputs": [],
   "source": [
    "def clean_column_values(value):\n",
    "    return value.replace('-', np.NaN).replace('Not available', np.NaN).replace('Not applicable', np.NaN).replace(',', '').replace('–', '').replace('', np.NaN).astype(float)\n"
   ]
  },
  {
   "cell_type": "code",
   "execution_count": 57,
   "metadata": {
    "collapsed": false
   },
   "outputs": [],
   "source": [
    "niti_df[['Total Sex Ratio', 'Rural Sex Ration', 'Urban Ratio',\n",
    "       'Total Households', 'Rural Households', 'Urban Households',\n",
    "       'Total Households With Electricity Pct',\n",
    "       'Rural Households With Electricity Pct',\n",
    "       'Urban Households With Electricity Pct',\n",
    "       'Total Households With Landline Conn Pct',\n",
    "       'Rural Households With Landline Conn Pct',\n",
    "       'Urban Households With Landline Conn Pct',\n",
    "       'Total Households With Mobile Conn Pct',\n",
    "       'Rural Households With Mobile Conn Pct',\n",
    "       'Urban Households With Mobile Conn Pct',\n",
    "       'Total Households With Internet Pct',\n",
    "       'Rural Households With Internet Pct',\n",
    "       'Urban Households With Internet Pct']] = niti_df[['Total Sex Ratio', 'Rural Sex Ration', 'Urban Ratio',\n",
    "       'Total Households', 'Rural Households', 'Urban Households',\n",
    "       'Total Households With Electricity Pct',\n",
    "       'Rural Households With Electricity Pct',\n",
    "       'Urban Households With Electricity Pct',\n",
    "       'Total Households With Landline Conn Pct',\n",
    "       'Rural Households With Landline Conn Pct',\n",
    "       'Urban Households With Landline Conn Pct',\n",
    "       'Total Households With Mobile Conn Pct',\n",
    "       'Rural Households With Mobile Conn Pct',\n",
    "       'Urban Households With Mobile Conn Pct',\n",
    "       'Total Households With Internet Pct',\n",
    "       'Rural Households With Internet Pct',\n",
    "       'Urban Households With Internet Pct']].apply(clean_column_values)"
   ]
  },
  {
   "cell_type": "code",
   "execution_count": 42,
   "metadata": {
    "collapsed": false
   },
   "outputs": [
    {
     "data": {
      "image/png": "[encoded data removed]",
      "text/plain": [
       "<matplotlib.figure.Figure at 0x10f94390>"
      ]
     },
     "metadata": {},
     "output_type": "display_data"
    }
   ],
   "source": [
    "state_wise_cumulative = niti_df.groupby('State').agg({'Total Households': 'sum',\n",
    "                                                      'Rural Households': 'sum',\n",
    "                                                      'Urban Households': 'sum',\n",
    "                                                      'Total Households With Internet Pct': 'sum', \n",
    "                                                      'Rural Households With Internet Pct': 'sum', \n",
    "                                                      'Urban Households With Internet Pct': 'sum', \n",
    "                                                      'District': 'count'})\n",
    "state_wise_cumulative['Statewise Rural Households']  =  state_wise_cumulative['Rural Households'].divide(state_wise_cumulative['District'])\n",
    "state_wise_cumulative['Statewise Urban Households']  =  state_wise_cumulative['Urban Households'].divide(state_wise_cumulative['District'])\n",
    "state_wise_cumulative['Statewise Rural Households With Internet Pct']  =  state_wise_cumulative['Rural Households With Internet Pct'].divide(state_wise_cumulative['District'])\n",
    "state_wise_cumulative['Statewise Urban Households With Internet Pct']  =  state_wise_cumulative['Urban Households With Internet Pct'].divide(state_wise_cumulative['District'])\n",
    "state_wise_cumulative['Statewise Total Households With Internet Pct']  =  state_wise_cumulative['Total Households With Internet Pct'].divide(state_wise_cumulative['District'])\n",
    "fig = plt.figure()\n",
    "ax = fig.add_subplot(111)\n",
    "state_wise_cumulative[['Statewise Rural Households With Internet Pct', 'Statewise Urban Households With Internet Pct']].plot.bar(figsize=(20,10), ax=ax, position=0)\n",
    "for tick in ax.get_xticklabels():\n",
    "        tick.set_rotation(90)\n",
    "plt.xticks(rotation=90)\n",
    "plt.show()"
   ]
  },
  {
   "cell_type": "code",
   "execution_count": 43,
   "metadata": {
    "collapsed": false
   },
   "outputs": [
    {
     "data": {
      "image/png": "[encoded data removed]",
      "text/plain": [
       "<matplotlib.figure.Figure at 0x10f94da0>"
      ]
     },
     "metadata": {},
     "output_type": "display_data"
    }
   ],
   "source": [
    "fig = plt.figure()\n",
    "ax = fig.add_subplot(111)\n",
    "state_wise_cumulative[['Statewise Rural Households', 'Statewise Urban Households']].plot.bar(figsize=(20,10), ax=ax, position=0)\n",
    "for tick in ax.get_xticklabels():\n",
    "        tick.set_rotation(90)\n",
    "plt.xticks(rotation=90)\n",
    "plt.show()"
   ]
  },
  {
   "cell_type": "code",
   "execution_count": 135,
   "metadata": {
    "collapsed": false
   },
   "outputs": [
    {
     "data": {
      "text/html": [
       "<div>\n",
       "<style scoped>\n",
       "    .dataframe tbody tr th:only-of-type {\n",
       "        vertical-align: middle;\n",
       "    }\n",
       "\n",
       "    .dataframe tbody tr th {\n",
       "        vertical-align: top;\n",
       "    }\n",
       "\n",
       "    .dataframe thead th {\n",
       "        text-align: right;\n",
       "    }\n",
       "</style>\n",
       "<table border=\"1\" class=\"dataframe\">\n",
       "  <thead>\n",
       "    <tr style=\"text-align: right;\">\n",
       "      <th></th>\n",
       "      <th>2011–12</th>\n",
       "      <th>2012–13</th>\n",
       "      <th>2013–14</th>\n",
       "      <th>2014–15</th>\n",
       "      <th>2015–16</th>\n",
       "      <th>2016–17</th>\n",
       "    </tr>\n",
       "    <tr>\n",
       "      <th>State</th>\n",
       "      <th></th>\n",
       "      <th></th>\n",
       "      <th></th>\n",
       "      <th></th>\n",
       "      <th></th>\n",
       "      <th></th>\n",
       "    </tr>\n",
       "  </thead>\n",
       "  <tbody>\n",
       "    <tr>\n",
       "      <th>Andhra Pradesh</th>\n",
       "      <td>662592</td>\n",
       "      <td>815066</td>\n",
       "      <td>928666</td>\n",
       "      <td>532922</td>\n",
       "      <td>609934</td>\n",
       "      <td>699307</td>\n",
       "    </tr>\n",
       "    <tr>\n",
       "      <th>Arunachal Pradesh</th>\n",
       "      <td>11063</td>\n",
       "      <td>12547</td>\n",
       "      <td>14602</td>\n",
       "      <td>16761</td>\n",
       "      <td>19492</td>\n",
       "      <td>–</td>\n",
       "    </tr>\n",
       "    <tr>\n",
       "      <th>Assam</th>\n",
       "      <td>143175</td>\n",
       "      <td>156864</td>\n",
       "      <td>177745</td>\n",
       "      <td>198098</td>\n",
       "      <td>224234</td>\n",
       "      <td>–</td>\n",
       "    </tr>\n",
       "    <tr>\n",
       "      <th>Bihar</th>\n",
       "      <td>247144</td>\n",
       "      <td>282368</td>\n",
       "      <td>329475</td>\n",
       "      <td>410862</td>\n",
       "      <td>486430</td>\n",
       "      <td>–</td>\n",
       "    </tr>\n",
       "    <tr>\n",
       "      <th>Chhattisgarh</th>\n",
       "      <td>158074</td>\n",
       "      <td>177511</td>\n",
       "      <td>206690</td>\n",
       "      <td>234982</td>\n",
       "      <td>260776</td>\n",
       "      <td>290140</td>\n",
       "    </tr>\n",
       "  </tbody>\n",
       "</table>\n",
       "</div>"
      ],
      "text/plain": [
       "                  2011–12 2012–13 2013–14 2014–15 2015–16 2016–17\n",
       "State                                                            \n",
       "Andhra Pradesh     662592  815066  928666  532922  609934  699307\n",
       "Arunachal Pradesh   11063   12547   14602   16761   19492       –\n",
       "Assam              143175  156864  177745  198098  224234       –\n",
       "Bihar              247144  282368  329475  410862  486430       –\n",
       "Chhattisgarh       158074  177511  206690  234982  260776  290140"
      ]
     },
     "execution_count": 135,
     "metadata": {},
     "output_type": "execute_result"
    }
   ],
   "source": [
    "'''\n",
    "data obtained from https://en.wikipedia.org/wiki/List_of_Indian_states_and_union_territories_by_GDPb\n",
    "'''\n",
    "gdp_df = pd.read_excel('data/statewise_gdp.xlsx', converters={'2011–12': str, '2012–13': str, '2013–14': str, '2014–15': str, '2015–16': str, '2016–17':str}, index_col='State')\n",
    "gdp_df.head()"
   ]
  },
  {
   "cell_type": "code",
   "execution_count": 86,
   "metadata": {
    "collapsed": false
   },
   "outputs": [
    {
     "data": {
      "text/plain": [
       "Index(['2011–12', '2012–13', '2013–14', '2014–15', '2015–16', '2016–17'], dtype='object')"
      ]
     },
     "execution_count": 86,
     "metadata": {},
     "output_type": "execute_result"
    }
   ],
   "source": [
    "gdp_df.columns"
   ]
  },
  {
   "cell_type": "code",
   "execution_count": 95,
   "metadata": {
    "collapsed": false
   },
   "outputs": [],
   "source": [
    "gdp_df = gdp_df.apply(lambda x: x.replace('–', '').replace('', 0).astype(int))"
   ]
  },
  {
   "cell_type": "code",
   "execution_count": 97,
   "metadata": {
    "collapsed": false
   },
   "outputs": [
    {
     "data": {
      "text/html": [
       "<div>\n",
       "<style scoped>\n",
       "    .dataframe tbody tr th:only-of-type {\n",
       "        vertical-align: middle;\n",
       "    }\n",
       "\n",
       "    .dataframe tbody tr th {\n",
       "        vertical-align: top;\n",
       "    }\n",
       "\n",
       "    .dataframe thead th {\n",
       "        text-align: right;\n",
       "    }\n",
       "</style>\n",
       "<table border=\"1\" class=\"dataframe\">\n",
       "  <thead>\n",
       "    <tr style=\"text-align: right;\">\n",
       "      <th></th>\n",
       "      <th>2011–12</th>\n",
       "      <th>2012–13</th>\n",
       "      <th>2013–14</th>\n",
       "      <th>2014–15</th>\n",
       "      <th>2015–16</th>\n",
       "      <th>2016–17</th>\n",
       "    </tr>\n",
       "  </thead>\n",
       "  <tbody>\n",
       "    <tr>\n",
       "      <th>count</th>\n",
       "      <td>3.600000e+01</td>\n",
       "      <td>3.600000e+01</td>\n",
       "      <td>3.600000e+01</td>\n",
       "      <td>3.600000e+01</td>\n",
       "      <td>3.600000e+01</td>\n",
       "      <td>3.600000e+01</td>\n",
       "    </tr>\n",
       "    <tr>\n",
       "      <th>mean</th>\n",
       "      <td>2.377709e+05</td>\n",
       "      <td>2.562158e+05</td>\n",
       "      <td>2.916214e+05</td>\n",
       "      <td>3.248358e+05</td>\n",
       "      <td>2.813932e+05</td>\n",
       "      <td>1.453024e+05</td>\n",
       "    </tr>\n",
       "    <tr>\n",
       "      <th>std</th>\n",
       "      <td>2.956244e+05</td>\n",
       "      <td>3.382278e+05</td>\n",
       "      <td>3.854417e+05</td>\n",
       "      <td>4.075018e+05</td>\n",
       "      <td>3.636716e+05</td>\n",
       "      <td>3.059483e+05</td>\n",
       "    </tr>\n",
       "    <tr>\n",
       "      <th>min</th>\n",
       "      <td>0.000000e+00</td>\n",
       "      <td>0.000000e+00</td>\n",
       "      <td>0.000000e+00</td>\n",
       "      <td>0.000000e+00</td>\n",
       "      <td>0.000000e+00</td>\n",
       "      <td>0.000000e+00</td>\n",
       "    </tr>\n",
       "    <tr>\n",
       "      <th>25%</th>\n",
       "      <td>1.264600e+04</td>\n",
       "      <td>1.335100e+04</td>\n",
       "      <td>1.579900e+04</td>\n",
       "      <td>1.832125e+04</td>\n",
       "      <td>0.000000e+00</td>\n",
       "      <td>0.000000e+00</td>\n",
       "    </tr>\n",
       "    <tr>\n",
       "      <th>50%</th>\n",
       "      <td>1.293490e+05</td>\n",
       "      <td>1.094700e+05</td>\n",
       "      <td>1.228550e+05</td>\n",
       "      <td>1.800415e+05</td>\n",
       "      <td>7.434550e+04</td>\n",
       "      <td>0.000000e+00</td>\n",
       "    </tr>\n",
       "    <tr>\n",
       "      <th>75%</th>\n",
       "      <td>3.488372e+05</td>\n",
       "      <td>3.834608e+05</td>\n",
       "      <td>4.392485e+05</td>\n",
       "      <td>4.971125e+05</td>\n",
       "      <td>5.008162e+05</td>\n",
       "      <td>2.955950e+04</td>\n",
       "    </tr>\n",
       "    <tr>\n",
       "      <th>max</th>\n",
       "      <td>1.272967e+06</td>\n",
       "      <td>1.448466e+06</td>\n",
       "      <td>1.647506e+06</td>\n",
       "      <td>1.792122e+06</td>\n",
       "      <td>1.212668e+06</td>\n",
       "      <td>1.338766e+06</td>\n",
       "    </tr>\n",
       "  </tbody>\n",
       "</table>\n",
       "</div>"
      ],
      "text/plain": [
       "            2011–12       2012–13       2013–14       2014–15       2015–16  \\\n",
       "count  3.600000e+01  3.600000e+01  3.600000e+01  3.600000e+01  3.600000e+01   \n",
       "mean   2.377709e+05  2.562158e+05  2.916214e+05  3.248358e+05  2.813932e+05   \n",
       "std    2.956244e+05  3.382278e+05  3.854417e+05  4.075018e+05  3.636716e+05   \n",
       "min    0.000000e+00  0.000000e+00  0.000000e+00  0.000000e+00  0.000000e+00   \n",
       "25%    1.264600e+04  1.335100e+04  1.579900e+04  1.832125e+04  0.000000e+00   \n",
       "50%    1.293490e+05  1.094700e+05  1.228550e+05  1.800415e+05  7.434550e+04   \n",
       "75%    3.488372e+05  3.834608e+05  4.392485e+05  4.971125e+05  5.008162e+05   \n",
       "max    1.272967e+06  1.448466e+06  1.647506e+06  1.792122e+06  1.212668e+06   \n",
       "\n",
       "            2016–17  \n",
       "count  3.600000e+01  \n",
       "mean   1.453024e+05  \n",
       "std    3.059483e+05  \n",
       "min    0.000000e+00  \n",
       "25%    0.000000e+00  \n",
       "50%    0.000000e+00  \n",
       "75%    2.955950e+04  \n",
       "max    1.338766e+06  "
      ]
     },
     "execution_count": 97,
     "metadata": {},
     "output_type": "execute_result"
    }
   ],
   "source": [
    "gdp_df.describe()"
   ]
  },
  {
   "cell_type": "code",
   "execution_count": 134,
   "metadata": {
    "collapsed": false
   },
   "outputs": [
    {
     "name": "stderr",
     "output_type": "stream",
     "text": [
      "C:\\Users\\Sid\\AppData\\Local\\Continuum\\Anaconda3\\lib\\site-packages\\pandas\\util\\_decorators.py:118: FutureWarning: The `sheetname` keyword is deprecated, use `sheet_name` instead\n",
      "  return func(*args, **kwargs)\n"
     ]
    },
    {
     "data": {
      "text/html": [
       "<div>\n",
       "<style scoped>\n",
       "    .dataframe tbody tr th:only-of-type {\n",
       "        vertical-align: middle;\n",
       "    }\n",
       "\n",
       "    .dataframe tbody tr th {\n",
       "        vertical-align: top;\n",
       "    }\n",
       "\n",
       "    .dataframe thead th {\n",
       "        text-align: right;\n",
       "    }\n",
       "</style>\n",
       "<table border=\"1\" class=\"dataframe\">\n",
       "  <thead>\n",
       "    <tr style=\"text-align: right;\">\n",
       "      <th></th>\n",
       "      <th>subscribers_per_100</th>\n",
       "      <th>subscribers_in_million</th>\n",
       "    </tr>\n",
       "    <tr>\n",
       "      <th>State</th>\n",
       "      <th></th>\n",
       "      <th></th>\n",
       "    </tr>\n",
       "  </thead>\n",
       "  <tbody>\n",
       "    <tr>\n",
       "      <th>Andhra Pradesh|Telengana</th>\n",
       "      <td>30.94</td>\n",
       "      <td>27.46</td>\n",
       "    </tr>\n",
       "    <tr>\n",
       "      <th>Assam</th>\n",
       "      <td>22.20</td>\n",
       "      <td>7.25</td>\n",
       "    </tr>\n",
       "    <tr>\n",
       "      <th>Bihar|Jharkhand</th>\n",
       "      <td>15.26</td>\n",
       "      <td>21.13</td>\n",
       "    </tr>\n",
       "    <tr>\n",
       "      <th>Gujarat</th>\n",
       "      <td>36.21</td>\n",
       "      <td>23.17</td>\n",
       "    </tr>\n",
       "    <tr>\n",
       "      <th>Haryana</th>\n",
       "      <td>29.95</td>\n",
       "      <td>8.30</td>\n",
       "    </tr>\n",
       "  </tbody>\n",
       "</table>\n",
       "</div>"
      ],
      "text/plain": [
       "                          subscribers_per_100  subscribers_in_million\n",
       "State                                                                \n",
       "Andhra Pradesh|Telengana                30.94                   27.46\n",
       "Assam                                   22.20                    7.25\n",
       "Bihar|Jharkhand                         15.26                   21.13\n",
       "Gujarat                                 36.21                   23.17\n",
       "Haryana                                 29.95                    8.30"
      ]
     },
     "execution_count": 134,
     "metadata": {},
     "output_type": "execute_result"
    }
   ],
   "source": [
    "'''\n",
    "data obtained from http://164.100.47.190/loksabhaquestions/annex/11/AS83.pdf\n",
    "\n",
    "GOVERNMENT OF INDIA\n",
    "MINISTRY OF COMMUNICATIONS\n",
    "DEPARTMENT OF TELECOMMUNICATIONS\n",
    "LOK SABHA\n",
    "STARRED QUESTION NO.83\n",
    "TO BE ANSWERED ON 8TH FEBRUARY, 2017\n",
    "\n",
    "INTERNET PENETRATION \n",
    "'''\n",
    "internet_sub_df = pd.read_excel('data/Service Area wise percentage Internet Subscribers 2016.xlsx', sheetname='Data',  index_col='State')\n",
    "internet_sub_df['subscribers_per_100'] = internet_sub_df['Internet subscribers per 100 population ']\n",
    "internet_sub_df['subscribers_in_million'] = internet_sub_df['Internet subscribers in million ']\n",
    "internet_sub_df = internet_sub_df.drop(columns=['Internet subscribers per 100 population ', 'Internet subscribers in million '])\n",
    "internet_sub_df.head()"
   ]
  },
  {
   "cell_type": "code",
   "execution_count": 119,
   "metadata": {
    "collapsed": false
   },
   "outputs": [
    {
     "data": {
      "text/html": [
       "<div>\n",
       "<style scoped>\n",
       "    .dataframe tbody tr th:only-of-type {\n",
       "        vertical-align: middle;\n",
       "    }\n",
       "\n",
       "    .dataframe tbody tr th {\n",
       "        vertical-align: top;\n",
       "    }\n",
       "\n",
       "    .dataframe thead th {\n",
       "        text-align: right;\n",
       "    }\n",
       "</style>\n",
       "<table border=\"1\" class=\"dataframe\">\n",
       "  <thead>\n",
       "    <tr style=\"text-align: right;\">\n",
       "      <th></th>\n",
       "      <th>subscribers_per_100</th>\n",
       "      <th>subscribers_in_million</th>\n",
       "      <th>subscribers_count_pct</th>\n",
       "    </tr>\n",
       "    <tr>\n",
       "      <th>State</th>\n",
       "      <th></th>\n",
       "      <th></th>\n",
       "      <th></th>\n",
       "    </tr>\n",
       "  </thead>\n",
       "  <tbody>\n",
       "    <tr>\n",
       "      <th>Andhra Pradesh|Telengana</th>\n",
       "      <td>30.94</td>\n",
       "      <td>27.46</td>\n",
       "      <td>7.472922</td>\n",
       "    </tr>\n",
       "    <tr>\n",
       "      <th>Assam</th>\n",
       "      <td>22.20</td>\n",
       "      <td>7.25</td>\n",
       "      <td>1.973004</td>\n",
       "    </tr>\n",
       "    <tr>\n",
       "      <th>Bihar|Jharkhand</th>\n",
       "      <td>15.26</td>\n",
       "      <td>21.13</td>\n",
       "      <td>5.750286</td>\n",
       "    </tr>\n",
       "    <tr>\n",
       "      <th>Gujarat</th>\n",
       "      <td>36.21</td>\n",
       "      <td>23.17</td>\n",
       "      <td>6.305448</td>\n",
       "    </tr>\n",
       "    <tr>\n",
       "      <th>Haryana</th>\n",
       "      <td>29.95</td>\n",
       "      <td>8.30</td>\n",
       "      <td>2.258749</td>\n",
       "    </tr>\n",
       "  </tbody>\n",
       "</table>\n",
       "</div>"
      ],
      "text/plain": [
       "                          subscribers_per_100  subscribers_in_million  \\\n",
       "State                                                                   \n",
       "Andhra Pradesh|Telengana                30.94                   27.46   \n",
       "Assam                                   22.20                    7.25   \n",
       "Bihar|Jharkhand                         15.26                   21.13   \n",
       "Gujarat                                 36.21                   23.17   \n",
       "Haryana                                 29.95                    8.30   \n",
       "\n",
       "                          subscribers_count_pct  \n",
       "State                                            \n",
       "Andhra Pradesh|Telengana               7.472922  \n",
       "Assam                                  1.973004  \n",
       "Bihar|Jharkhand                        5.750286  \n",
       "Gujarat                                6.305448  \n",
       "Haryana                                2.258749  "
      ]
     },
     "execution_count": 119,
     "metadata": {},
     "output_type": "execute_result"
    }
   ],
   "source": [
    "internet_sub_df['subscribers_count_pct'] = internet_sub_df['subscribers_in_million'] * 100 / internet_sub_df['subscribers_in_million'].sum()\n",
    "internet_sub_df.head()"
   ]
  },
  {
   "cell_type": "code",
   "execution_count": 120,
   "metadata": {
    "collapsed": false
   },
   "outputs": [
    {
     "data": {
      "text/plain": [
       "Index(['subscribers_per_100', 'subscribers_in_million',\n",
       "       'subscribers_count_pct'],\n",
       "      dtype='object')"
      ]
     },
     "execution_count": 120,
     "metadata": {},
     "output_type": "execute_result"
    }
   ],
   "source": [
    "internet_sub_df.columns"
   ]
  },
  {
   "cell_type": "code",
   "execution_count": 121,
   "metadata": {
    "collapsed": false
   },
   "outputs": [
    {
     "data": {
      "image/png": "[encoded data removed]",
      "text/plain": [
       "<matplotlib.figure.Figure at 0x10c4b9e8>"
      ]
     },
     "metadata": {},
     "output_type": "display_data"
    }
   ],
   "source": [
    "fig = plt.figure()\n",
    "ax = fig.add_subplot(111)\n",
    "internet_sub_df[['subscribers_per_100', 'subscribers_in_million', 'subscribers_count_pct']].plot.bar(figsize=(20,10), ax=ax, position=0)\n",
    "for tick in ax.get_xticklabels():\n",
    "        tick.set_rotation(90)\n",
    "plt.xticks(rotation=90)\n",
    "plt.show()"
   ]
  },
  {
   "cell_type": "code",
   "execution_count": 141,
   "metadata": {
    "collapsed": false
   },
   "outputs": [
    {
     "data": {
      "text/html": [
       "<div>\n",
       "<style scoped>\n",
       "    .dataframe tbody tr th:only-of-type {\n",
       "        vertical-align: middle;\n",
       "    }\n",
       "\n",
       "    .dataframe tbody tr th {\n",
       "        vertical-align: top;\n",
       "    }\n",
       "\n",
       "    .dataframe thead th {\n",
       "        text-align: right;\n",
       "    }\n",
       "</style>\n",
       "<table border=\"1\" class=\"dataframe\">\n",
       "  <thead>\n",
       "    <tr style=\"text-align: right;\">\n",
       "      <th></th>\n",
       "      <th>Area</th>\n",
       "      <th>Region</th>\n",
       "      <th>National Share Pct</th>\n",
       "      <th>Country of comparable size</th>\n",
       "      <th>Ref</th>\n",
       "    </tr>\n",
       "    <tr>\n",
       "      <th>State</th>\n",
       "      <th></th>\n",
       "      <th></th>\n",
       "      <th></th>\n",
       "      <th></th>\n",
       "      <th></th>\n",
       "    </tr>\n",
       "  </thead>\n",
       "  <tbody>\n",
       "    <tr>\n",
       "      <th>Rajasthan</th>\n",
       "      <td>342239</td>\n",
       "      <td>Western</td>\n",
       "      <td>10.41</td>\n",
       "      <td>Republic of the Congo</td>\n",
       "      <td>NaN</td>\n",
       "    </tr>\n",
       "    <tr>\n",
       "      <th>Madhya Pradesh</th>\n",
       "      <td>308350</td>\n",
       "      <td>Central</td>\n",
       "      <td>9.37</td>\n",
       "      <td>Oman</td>\n",
       "      <td>NaN</td>\n",
       "    </tr>\n",
       "    <tr>\n",
       "      <th>Maharashtra</th>\n",
       "      <td>307713</td>\n",
       "      <td>Western</td>\n",
       "      <td>9.36</td>\n",
       "      <td>Oman</td>\n",
       "      <td>NaN</td>\n",
       "    </tr>\n",
       "    <tr>\n",
       "      <th>Uttar Pradesh</th>\n",
       "      <td>243290</td>\n",
       "      <td>Northern</td>\n",
       "      <td>7.33</td>\n",
       "      <td>United Kingdom</td>\n",
       "      <td>NaN</td>\n",
       "    </tr>\n",
       "    <tr>\n",
       "      <th>Jammu and Kashmir</th>\n",
       "      <td>222236</td>\n",
       "      <td>Northern</td>\n",
       "      <td>6.76</td>\n",
       "      <td>Guyana</td>\n",
       "      <td>NaN</td>\n",
       "    </tr>\n",
       "  </tbody>\n",
       "</table>\n",
       "</div>"
      ],
      "text/plain": [
       "                     Area    Region  National Share Pct  \\\n",
       "State                                                     \n",
       "Rajasthan          342239   Western               10.41   \n",
       "Madhya Pradesh     308350   Central                9.37   \n",
       "Maharashtra        307713   Western                9.36   \n",
       "Uttar Pradesh      243290  Northern                7.33   \n",
       "Jammu and Kashmir  222236  Northern                6.76   \n",
       "\n",
       "                  Country of comparable size  Ref  \n",
       "State                                              \n",
       "Rajasthan              Republic of the Congo  NaN  \n",
       "Madhya Pradesh                          Oman  NaN  \n",
       "Maharashtra                             Oman  NaN  \n",
       "Uttar Pradesh                 United Kingdom  NaN  \n",
       "Jammu and Kashmir                     Guyana  NaN  "
      ]
     },
     "execution_count": 141,
     "metadata": {},
     "output_type": "execute_result"
    }
   ],
   "source": [
    "'''\n",
    "data obtained from https://en.wikipedia.org/wiki/List_of_states_and_union_territories_of_India_by_area\n",
    "\n",
    "'''\n",
    "statewise_landarea_df = pd.read_csv('data/statewise_landarea.csv', index_col='State')\n",
    "statewise_landarea_df['Area'] = statewise_landarea_df['Area'].str.replace(',', '').astype(int)\n",
    "statewise_landarea_df = statewise_landarea_df.drop(columns=['Rank'])\n",
    "\n",
    "statewise_landarea_df.head()"
   ]
  },
  {
   "cell_type": "code",
   "execution_count": 142,
   "metadata": {
    "collapsed": false
   },
   "outputs": [
    {
     "name": "stdout",
     "output_type": "stream",
     "text": [
      "<class 'pandas.core.frame.DataFrame'>\n",
      "Index: 36 entries, Rajasthan to Lakshadweep\n",
      "Data columns (total 5 columns):\n",
      "Area                          36 non-null int32\n",
      "Region                        36 non-null object\n",
      "National Share Pct            36 non-null float64\n",
      "Country of comparable size    36 non-null object\n",
      "Ref                           0 non-null float64\n",
      "dtypes: float64(2), int32(1), object(2)\n",
      "memory usage: 1.5+ KB\n"
     ]
    }
   ],
   "source": [
    "statewise_landarea_df.info()"
   ]
  },
  {
   "cell_type": "code",
   "execution_count": 143,
   "metadata": {
    "collapsed": false
   },
   "outputs": [
    {
     "data": {
      "image/png": "[encoded data removed]",
      "text/plain": [
       "<matplotlib.figure.Figure at 0x13736c88>"
      ]
     },
     "metadata": {},
     "output_type": "display_data"
    }
   ],
   "source": [
    "fig = plt.figure()\n",
    "ax = fig.add_subplot(111)\n",
    "statewise_landarea_df['Area'].plot.bar(figsize=(20,10), ax=ax, position=0)\n",
    "for tick in ax.get_xticklabels():\n",
    "        tick.set_rotation(90)\n",
    "plt.xticks(rotation=90)\n",
    "plt.show()"
   ]
  },
  {
   "cell_type": "code",
   "execution_count": null,
   "metadata": {
    "collapsed": true
   },
   "outputs": [],
   "source": [
    "'''\n",
    "Data we have:\n",
    "    - Utility services - district wise information about the electricity, internet, landline, mobile connection [available at urban and rural level]\n",
    "    - statewise gdp\n",
    "    - statewise internet subscribers\n",
    "    - statewise land area\n",
    "    - block level census information\n",
    "\n",
    "Questions to be answered:\n",
    "1. Is there a co relation between GDP with utility services\n",
    "2. Is there a co relation between land area and utility services\n",
    "\n",
    "'''\n",
    "\n"
   ]
  }
 ],
 "metadata": {
  "anaconda-cloud": {},
  "kernelspec": {
   "display_name": "Python [default]",
   "language": "python",
   "name": "python3"
  },
  "language_info": {
   "codemirror_mode": {
    "name": "ipython",
    "version": 3
   },
   "file_extension": ".py",
   "mimetype": "text/x-python",
   "name": "python",
   "nbconvert_exporter": "python",
   "pygments_lexer": "ipython3",
   "version": "3.5.2"
  }
 },
 "nbformat": 4,
 "nbformat_minor": 1
}
